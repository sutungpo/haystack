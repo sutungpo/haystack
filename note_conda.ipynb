{
 "cells": [
  {
   "cell_type": "code",
   "execution_count": null,
   "metadata": {},
   "outputs": [],
   "source": [
    "%%writefile install_mfa.sh\n",
    "!/bin/bash\n",
    "## a script to install Montreal Forced Aligner (MFA)\n",
    "root_dir=${1:-/tmp/mfa}\n",
    "mkdir -p $root_dir\n",
    "cd $root_dir\n",
    "\n",
    "# download miniconda3\n",
    "wget -q --show-progress https://repo.anaconda.com/miniconda/Miniconda3-latest-Linux-x86_64.sh\n",
    "bash Miniconda3-latest-Linux-x86_64.sh -b -p $root_dir/miniconda3 -f\n",
    "\n",
    "# download mfa aligner\n",
    "$root_dir/miniconda3/bin/conda create -n aligner -c conda-forge montreal-forced-aligner -y\n",
    "# source $root_dir/miniconda3/bin/conda activate aligner\n",
    "\n",
    "echo -e \"\\n======== DONE ==========\"\n"
   ]
  },
  {
   "cell_type": "code",
   "execution_count": null,
   "metadata": {},
   "outputs": [],
   "source": [
    "# download and install mfa\n",
    "INSTALL_DIR=\"/tmp/mfa\" # path to install directory\n",
    "!bash ./install_mfa.sh {INSTALL_DIR}"
   ]
  },
  {
   "cell_type": "code",
   "execution_count": null,
   "metadata": {},
   "outputs": [],
   "source": [
    "!cd /content/drive/MyDrive/test2\n",
    "# FINALLY, align phonemes and speech\n",
    "#\"\"\"MFA align requires \"corpus_directory',\"dictionary_path\", \"acoustic_model_path\",\"output_directory\"\"\"\"\n",
    "!source {INSTALL_DIR}/miniconda3/bin/activate aligner;\\\n",
    "mfa align --clean ./input english english ./output\n",
    "# output files are at ./output file\n",
    "!echo \"See output files at ./output_file\""
   ]
  }
 ],
 "metadata": {
  "language_info": {
   "name": "python"
  }
 },
 "nbformat": 4,
 "nbformat_minor": 2
}
