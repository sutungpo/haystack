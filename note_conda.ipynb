{
 "cells": [
  {
   "cell_type": "code",
   "execution_count": null,
   "metadata": {},
   "outputs": [],
   "source": [
    "%%writefile install_mfa.sh\n",
    "!/bin/bash\n",
    "## a script to install Montreal Forced Aligner (MFA)\n",
    "root_dir=${1:-/tmp/mfa}\n",
    "mkdir -p $root_dir\n",
    "cd $root_dir\n",
    "\n",
    "# download miniconda3\n",
    "wget -q --show-progress https://repo.anaconda.com/miniconda/Miniconda3-latest-Linux-x86_64.sh\n",
    "bash Miniconda3-latest-Linux-x86_64.sh -b -p $root_dir/miniconda3 -f\n",
    "\n",
    "# download mfa aligner\n",
    "$root_dir/miniconda3/bin/conda create -n aligner -c conda-forge montreal-forced-aligner -y\n",
    "# source $root_dir/miniconda3/bin/conda activate aligner\n",
    "\n",
    "echo -e \"\\n======== DONE ==========\"\n"
   ]
  },
  {
   "cell_type": "code",
   "execution_count": null,
   "metadata": {},
   "outputs": [],
   "source": [
    "# download and install mfa\n",
    "INSTALL_DIR=\"/tmp/mfa\" # path to install directory\n",
    "!bash ./install_mfa.sh {INSTALL_DIR}"
   ]
  },
  {
   "cell_type": "code",
   "execution_count": null,
   "metadata": {},
   "outputs": [],
   "source": [
    "!echo \"normalize audio clips to sample rate of 16k\"\n",
    "!find /kaggle/input/librispeech/Librispeech/19 -name \"*.wav\" -type f -execdir sox --norm=-3 {} -r 16k -c 1 `pwd`/wav/{} \\;\n",
    "!echo \"Number of clips\" $(ls ./wav/ | wc -l)"
   ]
  },
  {
   "cell_type": "code",
   "execution_count": null,
   "metadata": {},
   "outputs": [],
   "source": [
    "# download a pretrained english acoustic model, and english lexicon\n",
    "!wget -q --show-progress https://github.com/MontrealCorpusTools/mfa-models/raw/main/acoustic/english.zip\n",
    "!wget -q --show-progress http://www.openslr.org/resources/11/librispeech-lexicon.txt"
   ]
  },
  {
   "cell_type": "code",
   "execution_count": null,
   "metadata": {},
   "outputs": [],
   "source": [
    "# see: https://github.com/MontrealCorpusTools/Montreal-Forced-Aligner/pull/480\n",
    "import re\n",
    "lexicon = open(\"librispeech-lexicon.txt\").readlines()\n",
    "sp = re.compile(\"\\s+\")\n",
    "with open(\"modified_librispeech-lexicon.txt\", \"w\") as f:\n",
    "    print(lexicon)\n",
    "    for line in lexicon:\n",
    "        word, *phonemes = sp.split(line.strip())\n",
    "        phonemes = \" \".join(phonemes)\n",
    "        f.write(f\"{word}\\t{phonemes}\\n\")"
   ]
  },
  {
   "cell_type": "code",
   "execution_count": null,
   "metadata": {},
   "outputs": [],
   "source": [
    "# FINALLY, align phonemes and speech\n",
    "!source {INSTALL_DIR}/miniconda3/bin/activate aligner; \\\n",
    "mfa align -t ./temp -j 4 ./wav modified_librispeech-lexicon.txt ./english.zip ./ljs_aligned\n",
    "# output files are at ./ljs_aligned\n",
    "!echo \"See output files at ./ljs_aligned\""
   ]
  }
 ],
 "metadata": {
  "language_info": {
   "name": "python"
  }
 },
 "nbformat": 4,
 "nbformat_minor": 2
}
